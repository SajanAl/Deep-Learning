{
 "cells": [
  {
   "cell_type": "code",
   "execution_count": 11,
   "id": "4d4aaa39",
   "metadata": {},
   "outputs": [],
   "source": [
    "import numpy as np"
   ]
  },
  {
   "cell_type": "code",
   "execution_count": 12,
   "id": "6366b1a5",
   "metadata": {},
   "outputs": [],
   "source": [
    "y_predicted=np.array([1,1,0,0,1])\n",
    "y_true=np.array([0.30,0.7,1,0,0.5])"
   ]
  },
  {
   "cell_type": "markdown",
   "id": "4d32feaf",
   "metadata": {},
   "source": [
    "# Absolute Error"
   ]
  },
  {
   "cell_type": "code",
   "execution_count": 15,
   "id": "262f1168",
   "metadata": {},
   "outputs": [
    {
     "data": {
      "text/plain": [
       "array([0.7, 0.3, 1. , 0. , 0.5])"
      ]
     },
     "execution_count": 15,
     "metadata": {},
     "output_type": "execute_result"
    }
   ],
   "source": [
    "abs_error=np.abs(y_predicted - y_true)\n",
    "abs_error"
   ]
  },
  {
   "cell_type": "markdown",
   "id": "9efe9ce4",
   "metadata": {},
   "source": [
    "# Mean absolute error"
   ]
  },
  {
   "cell_type": "code",
   "execution_count": 17,
   "id": "2b5a4845",
   "metadata": {},
   "outputs": [
    {
     "data": {
      "text/plain": [
       "0.5"
      ]
     },
     "execution_count": 17,
     "metadata": {},
     "output_type": "execute_result"
    }
   ],
   "source": [
    "mean_error=np.mean(np.abs(y_predicted - y_true))\n",
    "mean_error"
   ]
  },
  {
   "cell_type": "markdown",
   "id": "0c603039",
   "metadata": {},
   "source": [
    "# Total error"
   ]
  },
  {
   "cell_type": "code",
   "execution_count": 18,
   "id": "4c959775",
   "metadata": {},
   "outputs": [
    {
     "data": {
      "text/plain": [
       "2.5"
      ]
     },
     "execution_count": 18,
     "metadata": {},
     "output_type": "execute_result"
    }
   ],
   "source": [
    "Total_error=np.sum(np.abs(y_predicted - y_true))\n",
    "Total_error"
   ]
  },
  {
   "cell_type": "code",
   "execution_count": null,
   "id": "8d2ee1b6",
   "metadata": {},
   "outputs": [],
   "source": []
  }
 ],
 "metadata": {
  "kernelspec": {
   "display_name": "Python 3 (ipykernel)",
   "language": "python",
   "name": "python3"
  },
  "language_info": {
   "codemirror_mode": {
    "name": "ipython",
    "version": 3
   },
   "file_extension": ".py",
   "mimetype": "text/x-python",
   "name": "python",
   "nbconvert_exporter": "python",
   "pygments_lexer": "ipython3",
   "version": "3.9.13"
  }
 },
 "nbformat": 4,
 "nbformat_minor": 5
}
