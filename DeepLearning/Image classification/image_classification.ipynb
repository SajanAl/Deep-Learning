{
 "cells": [
  {
   "cell_type": "code",
   "execution_count": 36,
   "metadata": {
    "id": "OMvMNz18BrQ1"
   },
   "outputs": [],
   "source": [
    "import tensorflow as tf\n",
    "from tensorflow import keras\n",
    "import matplotlib.pyplot as plt\n",
    "import numpy as np"
   ]
  },
  {
   "cell_type": "code",
   "execution_count": 4,
   "metadata": {
    "colab": {
     "base_uri": "https://localhost:8080/"
    },
    "id": "9vQ9DufFB7x-",
    "outputId": "06d5019b-e182-4b14-da04-88ca22cbd17e"
   },
   "outputs": [
    {
     "name": "stdout",
     "output_type": "stream",
     "text": [
      "Downloading data from https://www.cs.toronto.edu/~kriz/cifar-10-python.tar.gz\n",
      "170498071/170498071 [==============================] - 13s 0us/step\n"
     ]
    }
   ],
   "source": [
    "(X_train,y_train),(X_test,y_test)=keras.datasets.cifar10.load_data()"
   ]
  },
  {
   "cell_type": "code",
   "execution_count": 5,
   "metadata": {
    "colab": {
     "base_uri": "https://localhost:8080/"
    },
    "id": "7DpwVnkZEZ5s",
    "outputId": "1bef9f22-d890-43c9-8d0f-2363c83975eb"
   },
   "outputs": [
    {
     "data": {
      "text/plain": [
       "(50000, 32, 32, 3)"
      ]
     },
     "execution_count": 5,
     "metadata": {},
     "output_type": "execute_result"
    }
   ],
   "source": [
    "X_train.shape"
   ]
  },
  {
   "cell_type": "code",
   "execution_count": 6,
   "metadata": {
    "colab": {
     "base_uri": "https://localhost:8080/"
    },
    "id": "w7IJ_b0tEzGY",
    "outputId": "6cf0e5ab-34a1-4b81-a9bb-acfc489b7b76"
   },
   "outputs": [
    {
     "data": {
      "text/plain": [
       "(10000, 32, 32, 3)"
      ]
     },
     "execution_count": 6,
     "metadata": {},
     "output_type": "execute_result"
    }
   ],
   "source": [
    "X_test.shape"
   ]
  },
  {
   "cell_type": "code",
   "execution_count": 7,
   "metadata": {
    "colab": {
     "base_uri": "https://localhost:8080/"
    },
    "id": "LdK_m2pgE2EJ",
    "outputId": "e96b96c7-1f88-4366-baa3-e46bc12af7a2"
   },
   "outputs": [
    {
     "data": {
      "text/plain": [
       "array([[ 16,  20,  20],\n",
       "       [  0,   0,   0],\n",
       "       [ 18,   8,   0],\n",
       "       [ 51,  27,   8],\n",
       "       [ 88,  51,  21],\n",
       "       [120,  82,  43],\n",
       "       [128,  89,  45],\n",
       "       [127,  86,  44],\n",
       "       [126,  87,  50],\n",
       "       [116,  79,  44],\n",
       "       [106,  70,  37],\n",
       "       [101,  67,  35],\n",
       "       [105,  70,  36],\n",
       "       [113,  74,  35],\n",
       "       [109,  70,  33],\n",
       "       [112,  72,  37],\n",
       "       [119,  79,  44],\n",
       "       [109,  71,  33],\n",
       "       [105,  69,  27],\n",
       "       [125,  89,  46],\n",
       "       [127,  92,  46],\n",
       "       [122,  85,  39],\n",
       "       [131,  89,  47],\n",
       "       [124,  82,  41],\n",
       "       [121,  79,  37],\n",
       "       [131,  89,  48],\n",
       "       [132,  91,  53],\n",
       "       [133,  94,  58],\n",
       "       [133,  96,  60],\n",
       "       [123,  88,  55],\n",
       "       [119,  83,  50],\n",
       "       [122,  87,  57]], dtype=uint8)"
      ]
     },
     "execution_count": 7,
     "metadata": {},
     "output_type": "execute_result"
    }
   ],
   "source": [
    "X_train[0][1]"
   ]
  },
  {
   "cell_type": "code",
   "execution_count": 8,
   "metadata": {
    "colab": {
     "base_uri": "https://localhost:8080/"
    },
    "id": "wYBOgnGZFR2T",
    "outputId": "0908453a-bc84-4a96-8676-b1ce2fd027e6"
   },
   "outputs": [
    {
     "data": {
      "text/plain": [
       "array([[6],\n",
       "       [9],\n",
       "       [9],\n",
       "       [4],\n",
       "       [1]], dtype=uint8)"
      ]
     },
     "execution_count": 8,
     "metadata": {},
     "output_type": "execute_result"
    }
   ],
   "source": [
    "y_train[0:5]"
   ]
  },
  {
   "cell_type": "code",
   "execution_count": 9,
   "metadata": {
    "id": "r1KXxtFeFdzS"
   },
   "outputs": [],
   "source": [
    "def sample_image(index):\n",
    "  plt.figure(figsize=(10,1))\n",
    "  plt.imshow(X_train[index])"
   ]
  },
  {
   "cell_type": "code",
   "execution_count": 10,
   "metadata": {
    "colab": {
     "base_uri": "https://localhost:8080/",
     "height": 142
    },
    "id": "JEx1ZdJTFw3M",
    "outputId": "9fffb317-0f61-451f-97b6-423d7b3034ad"
   },
   "outputs": [
    {
     "data": {
      "image/png": "[encoded data removed]",
      "text/plain": [
       "<Figure size 1000x100 with 1 Axes>"
      ]
     },
     "metadata": {},
     "output_type": "display_data"
    }
   ],
   "source": [
    "sample_image(3)"
   ]
  },
  {
   "cell_type": "code",
   "execution_count": 11,
   "metadata": {
    "colab": {
     "base_uri": "https://localhost:8080/",
     "height": 447
    },
    "id": "ljgee0b_OyN5",
    "outputId": "e7933cec-438a-4291-ddbb-8a336da757b0"
   },
   "outputs": [
    {
     "data": {
      "text/plain": [
       "<matplotlib.image.AxesImage at 0x7942a8c22770>"
      ]
     },
     "execution_count": 11,
     "metadata": {},
     "output_type": "execute_result"
    },
    {
     "data": {
      "image/png": "[encoded data removed]",
      "text/plain": [
       "<Figure size 640x480 with 1 Axes>"
      ]
     },
     "metadata": {},
     "output_type": "display_data"
    }
   ],
   "source": [
    "plt.imshow(X_train[3])"
   ]
  },
  {
   "cell_type": "code",
   "execution_count": 12,
   "metadata": {
    "colab": {
     "base_uri": "https://localhost:8080/",
     "height": 142
    },
    "id": "CWHZGoigPJ2T",
    "outputId": "8f9fc198-842f-4c13-a9e0-6b820854e8f7"
   },
   "outputs": [
    {
     "data": {
      "image/png": "[encoded data removed]",
      "text/plain": [
       "<Figure size 1000x100 with 1 Axes>"
      ]
     },
     "metadata": {},
     "output_type": "display_data"
    }
   ],
   "source": [
    "sample_image(1)"
   ]
  },
  {
   "cell_type": "code",
   "execution_count": 13,
   "metadata": {
    "colab": {
     "base_uri": "https://localhost:8080/",
     "height": 465
    },
    "id": "eoQzIr7cPSPR",
    "outputId": "e6fde3fc-257d-4ee3-cc0b-a438911b4d29"
   },
   "outputs": [
    {
     "data": {
      "text/plain": [
       "<Figure size 1000x500 with 0 Axes>"
      ]
     },
     "execution_count": 13,
     "metadata": {},
     "output_type": "execute_result"
    },
    {
     "data": {
      "image/png": "[encoded data removed]",
      "text/plain": [
       "<Figure size 640x480 with 1 Axes>"
      ]
     },
     "metadata": {},
     "output_type": "display_data"
    },
    {
     "data": {
      "text/plain": [
       "<Figure size 1000x500 with 0 Axes>"
      ]
     },
     "metadata": {},
     "output_type": "display_data"
    }
   ],
   "source": [
    "plt.imshow(X_train[1])\n",
    "plt.figure(figsize=(10,5))"
   ]
  },
  {
   "cell_type": "code",
   "execution_count": 14,
   "metadata": {
    "colab": {
     "base_uri": "https://localhost:8080/"
    },
    "id": "IC9H3oRZPWWo",
    "outputId": "742b2908-78ee-4050-f040-709524ec8bc8"
   },
   "outputs": [
    {
     "data": {
      "text/plain": [
       "array([9], dtype=uint8)"
      ]
     },
     "execution_count": 14,
     "metadata": {},
     "output_type": "execute_result"
    }
   ],
   "source": [
    "y_train[1]"
   ]
  },
  {
   "cell_type": "code",
   "execution_count": 15,
   "metadata": {
    "id": "wbh1MKD1PkQ9"
   },
   "outputs": [],
   "source": [
    "classes=[\"airplane\",\" automobile\",\"bird\",\"cat\",\"deer\",\"dog\",\"frog\",\"horse\",\"ship\",\"truck\"]"
   ]
  },
  {
   "cell_type": "code",
   "execution_count": 16,
   "metadata": {
    "colab": {
     "base_uri": "https://localhost:8080/",
     "height": 35
    },
    "id": "kXxeQdWdP9AH",
    "outputId": "2edac04e-6455-4926-e628-f4ebdf43b135"
   },
   "outputs": [
    {
     "data": {
      "application/vnd.google.colaboratory.intrinsic+json": {
       "type": "string"
      },
      "text/plain": [
       "'deer'"
      ]
     },
     "execution_count": 16,
     "metadata": {},
     "output_type": "execute_result"
    }
   ],
   "source": [
    "classes[y_train[3][0]]"
   ]
  },
  {
   "cell_type": "markdown",
   "metadata": {
    "id": "h0eVVDioQIbX"
   },
   "source": [
    "# Normalizing"
   ]
  },
  {
   "cell_type": "code",
   "execution_count": 18,
   "metadata": {
    "id": "1-1qSQUXQyLG"
   },
   "outputs": [],
   "source": [
    "X_train_scaled=X_train /255\n",
    "X_test_scaled=X_test /255"
   ]
  },
  {
   "cell_type": "code",
   "execution_count": 19,
   "metadata": {
    "colab": {
     "base_uri": "https://localhost:8080/"
    },
    "id": "IkPrRpHVSa3i",
    "outputId": "5b9b0e1e-94c5-4ed4-f565-d3554a09df2a"
   },
   "outputs": [
    {
     "data": {
      "text/plain": [
       "(50000, 32, 32, 3)"
      ]
     },
     "execution_count": 19,
     "metadata": {},
     "output_type": "execute_result"
    }
   ],
   "source": [
    "X_train_scaled.shape"
   ]
  },
  {
   "cell_type": "code",
   "execution_count": 20,
   "metadata": {
    "id": "8o1nhW0zQ2G9"
   },
   "outputs": [],
   "source": [
    "# convert y_train and y_test data into categorical"
   ]
  },
  {
   "cell_type": "code",
   "execution_count": 21,
   "metadata": {
    "id": "hSKgN0sCRnbf"
   },
   "outputs": [],
   "source": [
    "y_train_categorical=keras.utils.to_categorical(\n",
    "    y_train, num_classes=10,dtype='float64'\n",
    ")\n",
    "y_test_categorical=keras.utils.to_categorical(\n",
    "    y_test,num_classes=10,dtype='float64'\n",
    ")"
   ]
  },
  {
   "cell_type": "code",
   "execution_count": 22,
   "metadata": {
    "colab": {
     "base_uri": "https://localhost:8080/"
    },
    "id": "Jkt9n1qmSJG7",
    "outputId": "6dd561a6-3041-427c-e72a-e47e0e32b552"
   },
   "outputs": [
    {
     "data": {
      "text/plain": [
       "(50000, 10)"
      ]
     },
     "execution_count": 22,
     "metadata": {},
     "output_type": "execute_result"
    }
   ],
   "source": [
    "y_train_categorical.shape"
   ]
  },
  {
   "cell_type": "code",
   "execution_count": 23,
   "metadata": {
    "colab": {
     "base_uri": "https://localhost:8080/"
    },
    "id": "SRzUhR_uShJv",
    "outputId": "803d5753-304c-48c0-df03-19537bd33930"
   },
   "outputs": [
    {
     "data": {
      "text/plain": [
       "array([[0., 0., 0., 0., 0., 0., 1., 0., 0., 0.],\n",
       "       [0., 0., 0., 0., 0., 0., 0., 0., 0., 1.],\n",
       "       [0., 0., 0., 0., 0., 0., 0., 0., 0., 1.],\n",
       "       [0., 0., 0., 0., 1., 0., 0., 0., 0., 0.],\n",
       "       [0., 1., 0., 0., 0., 0., 0., 0., 0., 0.]])"
      ]
     },
     "execution_count": 23,
     "metadata": {},
     "output_type": "execute_result"
    }
   ],
   "source": [
    "y_train_categorical[:5]"
   ]
  },
  {
   "cell_type": "code",
   "execution_count": 24,
   "metadata": {
    "colab": {
     "base_uri": "https://localhost:8080/"
    },
    "id": "_Dk5o9jMSknC",
    "outputId": "0c65462c-2494-41ad-e5a6-ee12f67d2d03"
   },
   "outputs": [
    {
     "data": {
      "text/plain": [
       "array([[6],\n",
       "       [9],\n",
       "       [9],\n",
       "       [4],\n",
       "       [1]], dtype=uint8)"
      ]
     },
     "execution_count": 24,
     "metadata": {},
     "output_type": "execute_result"
    }
   ],
   "source": [
    "y_train[:5]"
   ]
  },
  {
   "cell_type": "markdown",
   "metadata": {
    "id": "HcL_Niw3Swlo"
   },
   "source": [
    "# Now model build"
   ]
  },
  {
   "cell_type": "code",
   "execution_count": 26,
   "metadata": {
    "id": "AYmDCGl2S7Mk"
   },
   "outputs": [],
   "source": [
    "model=keras.Sequential([\n",
    "    keras.layers.Flatten(input_shape=(32,32,3)),\n",
    "    keras.layers.Dense(3000,activation='relu'),\n",
    "    keras.layers.Dense(1000,activation='relu'),\n",
    "    keras.layers.Dense(10,activation='sigmoid')\n",
    "])\n",
    "model.compile(\n",
    "    optimizer='SGD',\n",
    "    loss='categorical_crossentropy',\n",
    "    metrics=['accuracy']\n",
    ")"
   ]
  },
  {
   "cell_type": "code",
   "execution_count": 28,
   "metadata": {
    "colab": {
     "base_uri": "https://localhost:8080/"
    },
    "id": "xOv2sHbVULDG",
    "outputId": "02e48fd9-79d3-4b38-b4d4-9e96e71536fc"
   },
   "outputs": [
    {
     "name": "stdout",
     "output_type": "stream",
     "text": [
      "Epoch 1/50\n",
      "1563/1563 [==============================] - 7s 4ms/step - loss: 1.2261 - accuracy: 0.5674\n",
      "Epoch 2/50\n",
      "1563/1563 [==============================] - 7s 4ms/step - loss: 1.1985 - accuracy: 0.5789\n",
      "Epoch 3/50\n",
      "1563/1563 [==============================] - 7s 5ms/step - loss: 1.1683 - accuracy: 0.5923\n",
      "Epoch 4/50\n",
      "1563/1563 [==============================] - 7s 4ms/step - loss: 1.1405 - accuracy: 0.6028\n",
      "Epoch 5/50\n",
      "1563/1563 [==============================] - 7s 5ms/step - loss: 1.1146 - accuracy: 0.6111\n",
      "Epoch 6/50\n",
      "1563/1563 [==============================] - 7s 4ms/step - loss: 1.0859 - accuracy: 0.6207\n",
      "Epoch 7/50\n",
      "1563/1563 [==============================] - 7s 5ms/step - loss: 1.0617 - accuracy: 0.6298\n",
      "Epoch 8/50\n",
      "1563/1563 [==============================] - 7s 4ms/step - loss: 1.0346 - accuracy: 0.6406\n",
      "Epoch 9/50\n",
      "1563/1563 [==============================] - 7s 5ms/step - loss: 1.0065 - accuracy: 0.6503\n",
      "Epoch 10/50\n",
      "1563/1563 [==============================] - 7s 4ms/step - loss: 0.9814 - accuracy: 0.6587\n",
      "Epoch 11/50\n",
      "1563/1563 [==============================] - 7s 4ms/step - loss: 0.9595 - accuracy: 0.6672\n",
      "Epoch 12/50\n",
      "1563/1563 [==============================] - 7s 5ms/step - loss: 0.9317 - accuracy: 0.6792\n",
      "Epoch 13/50\n",
      "1563/1563 [==============================] - 7s 4ms/step - loss: 0.9085 - accuracy: 0.6869\n",
      "Epoch 14/50\n",
      "1563/1563 [==============================] - 7s 5ms/step - loss: 0.8798 - accuracy: 0.6959\n",
      "Epoch 15/50\n",
      "1563/1563 [==============================] - 7s 4ms/step - loss: 0.8540 - accuracy: 0.7068\n",
      "Epoch 16/50\n",
      "1563/1563 [==============================] - 7s 5ms/step - loss: 0.8301 - accuracy: 0.7136\n",
      "Epoch 17/50\n",
      "1563/1563 [==============================] - 7s 4ms/step - loss: 0.8040 - accuracy: 0.7249\n",
      "Epoch 18/50\n",
      "1563/1563 [==============================] - 7s 5ms/step - loss: 0.7814 - accuracy: 0.7307\n",
      "Epoch 19/50\n",
      "1563/1563 [==============================] - 7s 5ms/step - loss: 0.7555 - accuracy: 0.7401\n",
      "Epoch 20/50\n",
      "1563/1563 [==============================] - 7s 4ms/step - loss: 0.7285 - accuracy: 0.7527\n",
      "Epoch 21/50\n",
      "1563/1563 [==============================] - 7s 5ms/step - loss: 0.7056 - accuracy: 0.7609\n",
      "Epoch 22/50\n",
      "1563/1563 [==============================] - 7s 4ms/step - loss: 0.6807 - accuracy: 0.7689\n",
      "Epoch 23/50\n",
      "1563/1563 [==============================] - 7s 4ms/step - loss: 0.6547 - accuracy: 0.7778\n",
      "Epoch 24/50\n",
      "1563/1563 [==============================] - 7s 4ms/step - loss: 0.6313 - accuracy: 0.7877\n",
      "Epoch 25/50\n",
      "1563/1563 [==============================] - 7s 4ms/step - loss: 0.6082 - accuracy: 0.7960\n",
      "Epoch 26/50\n",
      "1563/1563 [==============================] - 7s 4ms/step - loss: 0.5831 - accuracy: 0.8047\n",
      "Epoch 27/50\n",
      "1563/1563 [==============================] - 7s 4ms/step - loss: 0.5612 - accuracy: 0.8138\n",
      "Epoch 28/50\n",
      "1563/1563 [==============================] - 7s 4ms/step - loss: 0.5337 - accuracy: 0.8242\n",
      "Epoch 29/50\n",
      "1563/1563 [==============================] - 7s 4ms/step - loss: 0.5123 - accuracy: 0.8319\n",
      "Epoch 30/50\n",
      "1563/1563 [==============================] - 7s 5ms/step - loss: 0.4927 - accuracy: 0.8398\n",
      "Epoch 31/50\n",
      "1563/1563 [==============================] - 7s 5ms/step - loss: 0.4676 - accuracy: 0.8477\n",
      "Epoch 32/50\n",
      "1563/1563 [==============================] - 7s 4ms/step - loss: 0.4493 - accuracy: 0.8547\n",
      "Epoch 33/50\n",
      "1563/1563 [==============================] - 7s 4ms/step - loss: 0.4250 - accuracy: 0.8647\n",
      "Epoch 34/50\n",
      "1563/1563 [==============================] - 7s 4ms/step - loss: 0.4065 - accuracy: 0.8708\n",
      "Epoch 35/50\n",
      "1563/1563 [==============================] - 7s 4ms/step - loss: 0.3867 - accuracy: 0.8774\n",
      "Epoch 36/50\n",
      "1563/1563 [==============================] - 7s 4ms/step - loss: 0.3662 - accuracy: 0.8863\n",
      "Epoch 37/50\n",
      "1563/1563 [==============================] - 7s 4ms/step - loss: 0.3488 - accuracy: 0.8921\n",
      "Epoch 38/50\n",
      "1563/1563 [==============================] - 7s 4ms/step - loss: 0.3258 - accuracy: 0.9011\n",
      "Epoch 39/50\n",
      "1563/1563 [==============================] - 7s 5ms/step - loss: 0.3140 - accuracy: 0.9053\n",
      "Epoch 40/50\n",
      "1563/1563 [==============================] - 7s 4ms/step - loss: 0.2944 - accuracy: 0.9121\n",
      "Epoch 41/50\n",
      "1563/1563 [==============================] - 7s 4ms/step - loss: 0.2769 - accuracy: 0.9178\n",
      "Epoch 42/50\n",
      "1563/1563 [==============================] - 7s 4ms/step - loss: 0.2622 - accuracy: 0.9225\n",
      "Epoch 43/50\n",
      "1563/1563 [==============================] - 7s 4ms/step - loss: 0.2460 - accuracy: 0.9293\n",
      "Epoch 44/50\n",
      "1563/1563 [==============================] - 7s 5ms/step - loss: 0.2295 - accuracy: 0.9356\n",
      "Epoch 45/50\n",
      "1563/1563 [==============================] - 7s 4ms/step - loss: 0.2140 - accuracy: 0.9409\n",
      "Epoch 46/50\n",
      "1563/1563 [==============================] - 7s 4ms/step - loss: 0.2057 - accuracy: 0.9440\n",
      "Epoch 47/50\n",
      "1563/1563 [==============================] - 7s 5ms/step - loss: 0.1921 - accuracy: 0.9482\n",
      "Epoch 48/50\n",
      "1563/1563 [==============================] - 7s 5ms/step - loss: 0.1768 - accuracy: 0.9540\n",
      "Epoch 49/50\n",
      "1563/1563 [==============================] - 7s 4ms/step - loss: 0.1648 - accuracy: 0.9578\n",
      "Epoch 50/50\n",
      "1563/1563 [==============================] - 7s 5ms/step - loss: 0.1535 - accuracy: 0.9617\n"
     ]
    },
    {
     "data": {
      "text/plain": [
       "<keras.src.callbacks.History at 0x7942401c92a0>"
      ]
     },
     "execution_count": 28,
     "metadata": {},
     "output_type": "execute_result"
    }
   ],
   "source": [
    "model.fit(X_train_scaled,y_train_categorical,epochs=50)"
   ]
  },
  {
   "cell_type": "markdown",
   "metadata": {
    "id": "QY4BXu7lVBPQ"
   },
   "source": [
    "# Now predic X_test data"
   ]
  },
  {
   "cell_type": "code",
   "execution_count": 32,
   "metadata": {
    "colab": {
     "base_uri": "https://localhost:8080/",
     "height": 35
    },
    "id": "rGc60preXsTd",
    "outputId": "a308ed0e-549e-44df-83f8-d82bf27b16bf"
   },
   "outputs": [
    {
     "data": {
      "application/vnd.google.colaboratory.intrinsic+json": {
       "type": "string"
      },
      "text/plain": [
       "'cat'"
      ]
     },
     "execution_count": 32,
     "metadata": {},
     "output_type": "execute_result"
    }
   ],
   "source": [
    "classes[y_test[0][0]]"
   ]
  },
  {
   "cell_type": "code",
   "execution_count": 37,
   "metadata": {
    "colab": {
     "base_uri": "https://localhost:8080/"
    },
    "id": "7XuOTD61X9-5",
    "outputId": "e7daccf0-d79f-40c9-fe85-79cab03da545"
   },
   "outputs": [
    {
     "name": "stdout",
     "output_type": "stream",
     "text": [
      "313/313 [==============================] - 1s 2ms/step\n"
     ]
    },
    {
     "data": {
      "text/plain": [
       "3"
      ]
     },
     "execution_count": 37,
     "metadata": {},
     "output_type": "execute_result"
    }
   ],
   "source": [
    "np.argmax(model.predict(X_test_scaled)[0])"
   ]
  },
  {
   "cell_type": "code",
   "execution_count": 39,
   "metadata": {
    "colab": {
     "base_uri": "https://localhost:8080/",
     "height": 53
    },
    "id": "0_o_hxf3YK_H",
    "outputId": "7313e0a0-788d-43cf-bd67-858614868c00"
   },
   "outputs": [
    {
     "name": "stdout",
     "output_type": "stream",
     "text": [
      "313/313 [==============================] - 1s 2ms/step\n"
     ]
    },
    {
     "data": {
      "application/vnd.google.colaboratory.intrinsic+json": {
       "type": "string"
      },
      "text/plain": [
       "'cat'"
      ]
     },
     "execution_count": 39,
     "metadata": {},
     "output_type": "execute_result"
    }
   ],
   "source": [
    "classes[np.argmax(model.predict(X_test_scaled)[0])]"
   ]
  },
  {
   "cell_type": "code",
   "execution_count": 40,
   "metadata": {
    "id": "c8iaUR96YxzP"
   },
   "outputs": [],
   "source": []
  },
  {
   "cell_type": "code",
   "execution_count": 41,
   "metadata": {
    "colab": {
     "base_uri": "https://localhost:8080/",
     "height": 35
    },
    "id": "j_GhDp8pY8iK",
    "outputId": "1ea9fe78-fea3-4d18-f368-cde60a455040"
   },
   "outputs": [
    {
     "data": {
      "application/vnd.google.colaboratory.intrinsic+json": {
       "type": "string"
      },
      "text/plain": [
       "'ship'"
      ]
     },
     "execution_count": 41,
     "metadata": {},
     "output_type": "execute_result"
    }
   ],
   "source": [
    "classes[y_test[1][0]]"
   ]
  },
  {
   "cell_type": "code",
   "execution_count": 43,
   "metadata": {
    "colab": {
     "base_uri": "https://localhost:8080/"
    },
    "id": "33N29QxAZJYR",
    "outputId": "7e66d17b-1c5a-4226-99c9-c319a535e53d"
   },
   "outputs": [
    {
     "name": "stdout",
     "output_type": "stream",
     "text": [
      "313/313 [==============================] - 1s 2ms/step\n"
     ]
    },
    {
     "data": {
      "text/plain": [
       "8"
      ]
     },
     "execution_count": 43,
     "metadata": {},
     "output_type": "execute_result"
    }
   ],
   "source": [
    "np.argmax(model.predict(X_test_scaled)[1])"
   ]
  },
  {
   "cell_type": "code",
   "execution_count": 44,
   "metadata": {
    "colab": {
     "base_uri": "https://localhost:8080/",
     "height": 53
    },
    "id": "poW7T2efZSVg",
    "outputId": "5b252893-4b21-4f43-8079-005ca5d423f8"
   },
   "outputs": [
    {
     "name": "stdout",
     "output_type": "stream",
     "text": [
      "313/313 [==============================] - 1s 3ms/step\n"
     ]
    },
    {
     "data": {
      "application/vnd.google.colaboratory.intrinsic+json": {
       "type": "string"
      },
      "text/plain": [
       "'ship'"
      ]
     },
     "execution_count": 44,
     "metadata": {},
     "output_type": "execute_result"
    }
   ],
   "source": [
    "classes[np.argmax(model.predict(X_test_scaled)[1])]"
   ]
  },
  {
   "cell_type": "markdown",
   "metadata": {
    "id": "uzt9eyduZhGn"
   },
   "source": [
    "# our model predict cat"
   ]
  },
  {
   "cell_type": "code",
   "execution_count": null,
   "metadata": {},
   "outputs": [],
   "source": []
  }
 ],
 "metadata": {
  "accelerator": "GPU",
  "colab": {
   "gpuType": "T4",
   "provenance": []
  },
  "kernelspec": {
   "display_name": "Python 3 (ipykernel)",
   "language": "python",
   "name": "python3"
  },
  "language_info": {
   "codemirror_mode": {
    "name": "ipython",
    "version": 3
   },
   "file_extension": ".py",
   "mimetype": "text/x-python",
   "name": "python",
   "nbconvert_exporter": "python",
   "pygments_lexer": "ipython3",
   "version": "3.9.13"
  }
 },
 "nbformat": 4,
 "nbformat_minor": 1
}
